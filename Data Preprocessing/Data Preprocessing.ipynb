{
 "cells": [
  {
   "cell_type": "markdown",
   "metadata": {},
   "source": [
    "# Data Preprocessing"
   ]
  },
  {
   "cell_type": "markdown",
   "metadata": {},
   "source": [
    "## Topics:\n",
    "* Importing Python Library\n",
    "* Reading Data\n",
    "* Missing Data\n",
    "* Dealing with Categorical Data\n",
    "* Splitting Data\n",
    "* Normalize Data"
   ]
  },
  {
   "cell_type": "markdown",
   "metadata": {},
   "source": [
    "## Import Python Library, Read Data"
   ]
  },
  {
   "cell_type": "code",
   "execution_count": 1,
   "metadata": {},
   "outputs": [],
   "source": [
    "import numpy as np\n",
    "import pandas as pd"
   ]
  },
  {
   "cell_type": "code",
   "execution_count": 2,
   "metadata": {},
   "outputs": [],
   "source": [
    "data = pd.read_csv(\"Data.csv\")"
   ]
  },
  {
   "cell_type": "code",
   "execution_count": 3,
   "metadata": {},
   "outputs": [
    {
     "data": {
      "text/html": [
       "<div>\n",
       "<style scoped>\n",
       "    .dataframe tbody tr th:only-of-type {\n",
       "        vertical-align: middle;\n",
       "    }\n",
       "\n",
       "    .dataframe tbody tr th {\n",
       "        vertical-align: top;\n",
       "    }\n",
       "\n",
       "    .dataframe thead th {\n",
       "        text-align: right;\n",
       "    }\n",
       "</style>\n",
       "<table border=\"1\" class=\"dataframe\">\n",
       "  <thead>\n",
       "    <tr style=\"text-align: right;\">\n",
       "      <th></th>\n",
       "      <th>City</th>\n",
       "      <th>Age</th>\n",
       "      <th>Smoke</th>\n",
       "      <th>HappinessIndex</th>\n",
       "      <th>Healthy</th>\n",
       "    </tr>\n",
       "  </thead>\n",
       "  <tbody>\n",
       "    <tr>\n",
       "      <th>0</th>\n",
       "      <td>Mumbai</td>\n",
       "      <td>24.0</td>\n",
       "      <td>Yes</td>\n",
       "      <td>241.0</td>\n",
       "      <td>Yes</td>\n",
       "    </tr>\n",
       "    <tr>\n",
       "      <th>1</th>\n",
       "      <td>London</td>\n",
       "      <td>80.0</td>\n",
       "      <td>No</td>\n",
       "      <td>928.0</td>\n",
       "      <td>No</td>\n",
       "    </tr>\n",
       "    <tr>\n",
       "      <th>2</th>\n",
       "      <td>NewYork</td>\n",
       "      <td>38.0</td>\n",
       "      <td>Yes</td>\n",
       "      <td>NaN</td>\n",
       "      <td>Yes</td>\n",
       "    </tr>\n",
       "    <tr>\n",
       "      <th>3</th>\n",
       "      <td>NewYork</td>\n",
       "      <td>22.0</td>\n",
       "      <td>Yes</td>\n",
       "      <td>786.0</td>\n",
       "      <td>Yes</td>\n",
       "    </tr>\n",
       "    <tr>\n",
       "      <th>4</th>\n",
       "      <td>NewYork</td>\n",
       "      <td>36.0</td>\n",
       "      <td>Yes</td>\n",
       "      <td>967.0</td>\n",
       "      <td>Yes</td>\n",
       "    </tr>\n",
       "    <tr>\n",
       "      <th>5</th>\n",
       "      <td>London</td>\n",
       "      <td>NaN</td>\n",
       "      <td>Yes</td>\n",
       "      <td>665.0</td>\n",
       "      <td>Yes</td>\n",
       "    </tr>\n",
       "    <tr>\n",
       "      <th>6</th>\n",
       "      <td>Mumbai</td>\n",
       "      <td>17.0</td>\n",
       "      <td>No</td>\n",
       "      <td>293.0</td>\n",
       "      <td>No</td>\n",
       "    </tr>\n",
       "    <tr>\n",
       "      <th>7</th>\n",
       "      <td>NewYork</td>\n",
       "      <td>28.0</td>\n",
       "      <td>No</td>\n",
       "      <td>494.0</td>\n",
       "      <td>Yes</td>\n",
       "    </tr>\n",
       "    <tr>\n",
       "      <th>8</th>\n",
       "      <td>Mumbai</td>\n",
       "      <td>45.0</td>\n",
       "      <td>No</td>\n",
       "      <td>707.0</td>\n",
       "      <td>No</td>\n",
       "    </tr>\n",
       "    <tr>\n",
       "      <th>9</th>\n",
       "      <td>London</td>\n",
       "      <td>29.0</td>\n",
       "      <td>Yes</td>\n",
       "      <td>599.0</td>\n",
       "      <td>No</td>\n",
       "    </tr>\n",
       "  </tbody>\n",
       "</table>\n",
       "</div>"
      ],
      "text/plain": [
       "      City   Age Smoke  HappinessIndex Healthy\n",
       "0   Mumbai  24.0   Yes           241.0     Yes\n",
       "1   London  80.0    No           928.0      No\n",
       "2  NewYork  38.0   Yes             NaN     Yes\n",
       "3  NewYork  22.0   Yes           786.0     Yes\n",
       "4  NewYork  36.0   Yes           967.0     Yes\n",
       "5   London   NaN   Yes           665.0     Yes\n",
       "6   Mumbai  17.0    No           293.0      No\n",
       "7  NewYork  28.0    No           494.0     Yes\n",
       "8   Mumbai  45.0    No           707.0      No\n",
       "9   London  29.0   Yes           599.0      No"
      ]
     },
     "execution_count": 3,
     "metadata": {},
     "output_type": "execute_result"
    }
   ],
   "source": [
    "data"
   ]
  },
  {
   "cell_type": "code",
   "execution_count": 4,
   "metadata": {},
   "outputs": [],
   "source": [
    "# Split into input data(X) and output data(y)\n",
    "X = data.iloc[:, 0:4].values\n",
    "y = data.iloc[:, 4].values"
   ]
  },
  {
   "cell_type": "code",
   "execution_count": 5,
   "metadata": {},
   "outputs": [
    {
     "data": {
      "text/plain": [
       "array([['Mumbai', 24.0, 'Yes', 241.0],\n",
       "       ['London', 80.0, 'No', 928.0],\n",
       "       ['NewYork', 38.0, 'Yes', nan],\n",
       "       ['NewYork', 22.0, 'Yes', 786.0],\n",
       "       ['NewYork', 36.0, 'Yes', 967.0],\n",
       "       ['London', nan, 'Yes', 665.0],\n",
       "       ['Mumbai', 17.0, 'No', 293.0],\n",
       "       ['NewYork', 28.0, 'No', 494.0],\n",
       "       ['Mumbai', 45.0, 'No', 707.0],\n",
       "       ['London', 29.0, 'Yes', 599.0]], dtype=object)"
      ]
     },
     "execution_count": 5,
     "metadata": {},
     "output_type": "execute_result"
    }
   ],
   "source": [
    "X"
   ]
  },
  {
   "cell_type": "code",
   "execution_count": 6,
   "metadata": {},
   "outputs": [
    {
     "data": {
      "text/plain": [
       "array(['Yes', 'No', 'Yes', 'Yes', 'Yes', 'Yes', 'No', 'Yes', 'No', 'No'], dtype=object)"
      ]
     },
     "execution_count": 6,
     "metadata": {},
     "output_type": "execute_result"
    }
   ],
   "source": [
    "y"
   ]
  },
  {
   "cell_type": "markdown",
   "metadata": {},
   "source": [
    "## Missing Data"
   ]
  },
  {
   "cell_type": "code",
   "execution_count": 7,
   "metadata": {},
   "outputs": [
    {
     "data": {
      "text/plain": [
       "array([['Mumbai', 24.0, 'Yes', 241.0],\n",
       "       ['London', 80.0, 'No', 928.0],\n",
       "       ['NewYork', 38.0, 'Yes', nan],\n",
       "       ['NewYork', 22.0, 'Yes', 786.0],\n",
       "       ['NewYork', 36.0, 'Yes', 967.0],\n",
       "       ['London', nan, 'Yes', 665.0],\n",
       "       ['Mumbai', 17.0, 'No', 293.0],\n",
       "       ['NewYork', 28.0, 'No', 494.0],\n",
       "       ['Mumbai', 45.0, 'No', 707.0],\n",
       "       ['London', 29.0, 'Yes', 599.0]], dtype=object)"
      ]
     },
     "execution_count": 7,
     "metadata": {},
     "output_type": "execute_result"
    }
   ],
   "source": [
    "X"
   ]
  },
  {
   "cell_type": "code",
   "execution_count": 8,
   "metadata": {},
   "outputs": [],
   "source": [
    "from sklearn.preprocessing import Imputer\n",
    "#to deal with empty data"
   ]
  },
  {
   "cell_type": "code",
   "execution_count": 9,
   "metadata": {},
   "outputs": [],
   "source": [
    "Imputer?\n",
    "#to check help"
   ]
  },
  {
   "cell_type": "code",
   "execution_count": 10,
   "metadata": {},
   "outputs": [],
   "source": [
    "imputer = Imputer(missing_values='NaN', strategy='mean', axis=0)"
   ]
  },
  {
   "cell_type": "code",
   "execution_count": 11,
   "metadata": {},
   "outputs": [],
   "source": [
    "X[:, 1:2] = imputer.fit_transform(X[:, 1:2]) #for column 1\n",
    "X[:, 3:4] = imputer.fit_transform(X[:, 3:4]) #for column 1\n",
    "\n",
    "# fit - take input data and compute the value using the strategy specified(eg. mean)\n",
    "# transform - actually append computed value in place of computed value\n",
    "# fit + transform = fit_transform"
   ]
  },
  {
   "cell_type": "code",
   "execution_count": 12,
   "metadata": {
    "scrolled": true
   },
   "outputs": [
    {
     "data": {
      "text/plain": [
       "array([['Mumbai', 24.0, 'Yes', 241.0],\n",
       "       ['London', 80.0, 'No', 928.0],\n",
       "       ['NewYork', 38.0, 'Yes', 631.1111111111111],\n",
       "       ['NewYork', 22.0, 'Yes', 786.0],\n",
       "       ['NewYork', 36.0, 'Yes', 967.0],\n",
       "       ['London', 35.44444444444444, 'Yes', 665.0],\n",
       "       ['Mumbai', 17.0, 'No', 293.0],\n",
       "       ['NewYork', 28.0, 'No', 494.0],\n",
       "       ['Mumbai', 45.0, 'No', 707.0],\n",
       "       ['London', 29.0, 'Yes', 599.0]], dtype=object)"
      ]
     },
     "execution_count": 12,
     "metadata": {},
     "output_type": "execute_result"
    }
   ],
   "source": [
    "X"
   ]
  },
  {
   "cell_type": "markdown",
   "metadata": {},
   "source": [
    "# Categorical Data"
   ]
  },
  {
   "cell_type": "code",
   "execution_count": 13,
   "metadata": {},
   "outputs": [
    {
     "data": {
      "text/plain": [
       "array([['Mumbai', 24.0, 'Yes', 241.0],\n",
       "       ['London', 80.0, 'No', 928.0],\n",
       "       ['NewYork', 38.0, 'Yes', 631.1111111111111],\n",
       "       ['NewYork', 22.0, 'Yes', 786.0],\n",
       "       ['NewYork', 36.0, 'Yes', 967.0],\n",
       "       ['London', 35.44444444444444, 'Yes', 665.0],\n",
       "       ['Mumbai', 17.0, 'No', 293.0],\n",
       "       ['NewYork', 28.0, 'No', 494.0],\n",
       "       ['Mumbai', 45.0, 'No', 707.0],\n",
       "       ['London', 29.0, 'Yes', 599.0]], dtype=object)"
      ]
     },
     "execution_count": 13,
     "metadata": {},
     "output_type": "execute_result"
    }
   ],
   "source": [
    "X"
   ]
  },
  {
   "cell_type": "code",
   "execution_count": 14,
   "metadata": {},
   "outputs": [
    {
     "data": {
      "text/plain": [
       "array(['Yes', 'No', 'Yes', 'Yes', 'Yes', 'Yes', 'No', 'Yes', 'No', 'No'], dtype=object)"
      ]
     },
     "execution_count": 14,
     "metadata": {},
     "output_type": "execute_result"
    }
   ],
   "source": [
    "y"
   ]
  },
  {
   "cell_type": "markdown",
   "metadata": {},
   "source": [
    "### Converting Categorical Data\n",
    "Strategy 1:\n",
    "> Yes -> 1, No -> 0  \n",
    "> Mumbai -> 0, London -> 1, New York -> 2\n",
    "\n",
    "When more than 2 levels are available in a single feature:  \n",
    "For first feature, use LabelEncoder  \n",
    "  \n",
    "For second feature, use OneHotEnconder\n",
    "\n",
    "| Mumbai | London | New York |\n",
    "|--------|--------|----------|\n",
    "| 1      | 0      | 0        |\n",
    "| 0      | 1      | 0        |\n",
    "\n",
    "\n",
    "> LabelEncoder -- Converts categorical data into numeric data\n",
    "> OneHotEncoder -- Converts into matrix format with values 0 and 1"
   ]
  },
  {
   "cell_type": "code",
   "execution_count": 15,
   "metadata": {},
   "outputs": [],
   "source": [
    "from sklearn.preprocessing import LabelEncoder, OneHotEncoder"
   ]
  },
  {
   "cell_type": "code",
   "execution_count": 16,
   "metadata": {},
   "outputs": [],
   "source": [
    "le_x = LabelEncoder()\n",
    "le_y = LabelEncoder()"
   ]
  },
  {
   "cell_type": "code",
   "execution_count": 17,
   "metadata": {},
   "outputs": [],
   "source": [
    "X[:, 0] = le_x.fit_transform(X[:, 0])\n",
    "X[:, 2] = le_x.fit_transform(X[:, 2])\n",
    "\n",
    "y = le_y.fit_transform(y)"
   ]
  },
  {
   "cell_type": "code",
   "execution_count": 18,
   "metadata": {},
   "outputs": [
    {
     "data": {
      "text/plain": [
       "array([[1, 24.0, 1, 241.0],\n",
       "       [0, 80.0, 0, 928.0],\n",
       "       [2, 38.0, 1, 631.1111111111111],\n",
       "       [2, 22.0, 1, 786.0],\n",
       "       [2, 36.0, 1, 967.0],\n",
       "       [0, 35.44444444444444, 1, 665.0],\n",
       "       [1, 17.0, 0, 293.0],\n",
       "       [2, 28.0, 0, 494.0],\n",
       "       [1, 45.0, 0, 707.0],\n",
       "       [0, 29.0, 1, 599.0]], dtype=object)"
      ]
     },
     "execution_count": 18,
     "metadata": {},
     "output_type": "execute_result"
    }
   ],
   "source": [
    "X"
   ]
  },
  {
   "cell_type": "code",
   "execution_count": 19,
   "metadata": {},
   "outputs": [
    {
     "data": {
      "text/plain": [
       "array([1, 0, 1, 1, 1, 1, 0, 1, 0, 0], dtype=int64)"
      ]
     },
     "execution_count": 19,
     "metadata": {},
     "output_type": "execute_result"
    }
   ],
   "source": [
    "y"
   ]
  },
  {
   "cell_type": "code",
   "execution_count": 20,
   "metadata": {},
   "outputs": [],
   "source": [
    "ohe = OneHotEncoder(categorical_features=[0])"
   ]
  },
  {
   "cell_type": "code",
   "execution_count": 21,
   "metadata": {},
   "outputs": [],
   "source": [
    "X = ohe.fit_transform(X).toarray()\n",
    "# tranformed 'City' into matrix\n",
    "# i.e. transformed 1 value into 3 values\n",
    "# i.e. tranformed 4 features into 6 features"
   ]
  },
  {
   "cell_type": "code",
   "execution_count": 22,
   "metadata": {
    "scrolled": true
   },
   "outputs": [
    {
     "data": {
      "text/plain": [
       "array([[   0.        ,    1.        ,    0.        ,   24.        ,\n",
       "           1.        ,  241.        ],\n",
       "       [   1.        ,    0.        ,    0.        ,   80.        ,\n",
       "           0.        ,  928.        ],\n",
       "       [   0.        ,    0.        ,    1.        ,   38.        ,\n",
       "           1.        ,  631.11111111],\n",
       "       [   0.        ,    0.        ,    1.        ,   22.        ,\n",
       "           1.        ,  786.        ],\n",
       "       [   0.        ,    0.        ,    1.        ,   36.        ,\n",
       "           1.        ,  967.        ],\n",
       "       [   1.        ,    0.        ,    0.        ,   35.44444444,\n",
       "           1.        ,  665.        ],\n",
       "       [   0.        ,    1.        ,    0.        ,   17.        ,\n",
       "           0.        ,  293.        ],\n",
       "       [   0.        ,    0.        ,    1.        ,   28.        ,\n",
       "           0.        ,  494.        ],\n",
       "       [   0.        ,    1.        ,    0.        ,   45.        ,\n",
       "           0.        ,  707.        ],\n",
       "       [   1.        ,    0.        ,    0.        ,   29.        ,\n",
       "           1.        ,  599.        ]])"
      ]
     },
     "execution_count": 22,
     "metadata": {},
     "output_type": "execute_result"
    }
   ],
   "source": [
    "X\n",
    "# first 3 values represent City\n",
    "# rest of the values represent the rest of the featues"
   ]
  },
  {
   "cell_type": "markdown",
   "metadata": {},
   "source": [
    "# Splitting Data in Training and Testing Set"
   ]
  },
  {
   "cell_type": "markdown",
   "metadata": {},
   "source": [
    "Machine Learning = Training + Testing"
   ]
  },
  {
   "cell_type": "code",
   "execution_count": 23,
   "metadata": {},
   "outputs": [],
   "source": [
    "from sklearn.cross_validation import train_test_split"
   ]
  },
  {
   "cell_type": "code",
   "execution_count": 24,
   "metadata": {},
   "outputs": [],
   "source": [
    "X_train, X_test, y_train, y_test  = train_test_split(X, y, test_size = 0.3)"
   ]
  },
  {
   "cell_type": "code",
   "execution_count": 27,
   "metadata": {},
   "outputs": [
    {
     "data": {
      "text/plain": [
       "array([[   1.        ,    0.        ,    0.        ,   35.44444444,\n",
       "           1.        ,  665.        ],\n",
       "       [   0.        ,    0.        ,    1.        ,   28.        ,\n",
       "           0.        ,  494.        ],\n",
       "       [   0.        ,    0.        ,    1.        ,   36.        ,\n",
       "           1.        ,  967.        ],\n",
       "       [   0.        ,    0.        ,    1.        ,   38.        ,\n",
       "           1.        ,  631.11111111],\n",
       "       [   0.        ,    1.        ,    0.        ,   45.        ,\n",
       "           0.        ,  707.        ],\n",
       "       [   1.        ,    0.        ,    0.        ,   80.        ,\n",
       "           0.        ,  928.        ],\n",
       "       [   0.        ,    1.        ,    0.        ,   17.        ,\n",
       "           0.        ,  293.        ]])"
      ]
     },
     "execution_count": 27,
     "metadata": {},
     "output_type": "execute_result"
    }
   ],
   "source": [
    "X_train"
   ]
  },
  {
   "cell_type": "code",
   "execution_count": 28,
   "metadata": {},
   "outputs": [
    {
     "data": {
      "text/plain": [
       "array([1, 1, 1, 1, 0, 0, 0], dtype=int64)"
      ]
     },
     "execution_count": 28,
     "metadata": {},
     "output_type": "execute_result"
    }
   ],
   "source": [
    "y_train"
   ]
  },
  {
   "cell_type": "code",
   "execution_count": 29,
   "metadata": {},
   "outputs": [
    {
     "data": {
      "text/plain": [
       "array([[   1.,    0.,    0.,   29.,    1.,  599.],\n",
       "       [   0.,    1.,    0.,   24.,    1.,  241.],\n",
       "       [   0.,    0.,    1.,   22.,    1.,  786.]])"
      ]
     },
     "execution_count": 29,
     "metadata": {},
     "output_type": "execute_result"
    }
   ],
   "source": [
    "X_test"
   ]
  },
  {
   "cell_type": "code",
   "execution_count": 30,
   "metadata": {},
   "outputs": [
    {
     "data": {
      "text/plain": [
       "array([0, 1, 1], dtype=int64)"
      ]
     },
     "execution_count": 30,
     "metadata": {},
     "output_type": "execute_result"
    }
   ],
   "source": [
    "y_test"
   ]
  },
  {
   "cell_type": "markdown",
   "metadata": {},
   "source": [
    "# Normalize Data"
   ]
  },
  {
   "cell_type": "code",
   "execution_count": 31,
   "metadata": {},
   "outputs": [
    {
     "data": {
      "text/plain": [
       "array([[   1.        ,    0.        ,    0.        ,   35.44444444,\n",
       "           1.        ,  665.        ],\n",
       "       [   0.        ,    0.        ,    1.        ,   28.        ,\n",
       "           0.        ,  494.        ],\n",
       "       [   0.        ,    0.        ,    1.        ,   36.        ,\n",
       "           1.        ,  967.        ],\n",
       "       [   0.        ,    0.        ,    1.        ,   38.        ,\n",
       "           1.        ,  631.11111111],\n",
       "       [   0.        ,    1.        ,    0.        ,   45.        ,\n",
       "           0.        ,  707.        ],\n",
       "       [   1.        ,    0.        ,    0.        ,   80.        ,\n",
       "           0.        ,  928.        ],\n",
       "       [   0.        ,    1.        ,    0.        ,   17.        ,\n",
       "           0.        ,  293.        ]])"
      ]
     },
     "execution_count": 31,
     "metadata": {},
     "output_type": "execute_result"
    }
   ],
   "source": [
    "X_train"
   ]
  },
  {
   "cell_type": "code",
   "execution_count": 32,
   "metadata": {},
   "outputs": [],
   "source": [
    "from sklearn.preprocessing import StandardScaler"
   ]
  },
  {
   "cell_type": "code",
   "execution_count": 34,
   "metadata": {},
   "outputs": [],
   "source": [
    "sc_x = StandardScaler()\n",
    "# (X-Xmin) / (Range=max-min)\n",
    "# (X-Xmean) / Xstd"
   ]
  },
  {
   "cell_type": "code",
   "execution_count": 35,
   "metadata": {},
   "outputs": [],
   "source": [
    "X_train = sc_x.fit_transform(X_train)\n",
    "X_test = sc_x.transform(X_test)"
   ]
  },
  {
   "cell_type": "code",
   "execution_count": 36,
   "metadata": {},
   "outputs": [
    {
     "data": {
      "text/plain": [
       "array([[ 1.58113883, -0.63245553, -0.8660254 , -0.24488912,  1.15470054,\n",
       "        -0.01978826],\n",
       "       [-0.63245553, -0.63245553,  1.15470054, -0.65216925, -0.8660254 ,\n",
       "        -0.80642621],\n",
       "       [-0.63245553, -0.63245553,  1.15470054, -0.21449508,  1.15470054,\n",
       "         1.36947878],\n",
       "       [-0.63245553, -0.63245553,  1.15470054, -0.10507654,  1.15470054,\n",
       "        -0.17568467],\n",
       "       [-0.63245553,  1.58113883, -0.8660254 ,  0.27788836, -0.8660254 ,\n",
       "         0.17342107],\n",
       "       [ 1.58113883, -0.63245553, -0.8660254 ,  2.19271284, -0.8660254 ,\n",
       "         1.19007012],\n",
       "       [-0.63245553,  1.58113883, -0.8660254 , -1.25397122, -0.8660254 ,\n",
       "        -1.73107083]])"
      ]
     },
     "execution_count": 36,
     "metadata": {},
     "output_type": "execute_result"
    }
   ],
   "source": [
    "X_train"
   ]
  },
  {
   "cell_type": "code",
   "execution_count": 37,
   "metadata": {},
   "outputs": [
    {
     "data": {
      "text/plain": [
       "array([[ 1.58113883, -0.63245553, -0.8660254 , -0.59745997,  1.15470054,\n",
       "        -0.32340291],\n",
       "       [-0.63245553,  1.58113883, -0.8660254 , -0.87100633,  1.15470054,\n",
       "        -1.97028237],\n",
       "       [-0.63245553, -0.63245553,  1.15470054, -0.98042487,  1.15470054,\n",
       "         0.5368386 ]])"
      ]
     },
     "execution_count": 37,
     "metadata": {},
     "output_type": "execute_result"
    }
   ],
   "source": [
    "X_test"
   ]
  }
 ],
 "metadata": {
  "kernelspec": {
   "display_name": "Python 3",
   "language": "python",
   "name": "python3"
  },
  "language_info": {
   "codemirror_mode": {
    "name": "ipython",
    "version": 3
   },
   "file_extension": ".py",
   "mimetype": "text/x-python",
   "name": "python",
   "nbconvert_exporter": "python",
   "pygments_lexer": "ipython3",
   "version": "3.6.3"
  }
 },
 "nbformat": 4,
 "nbformat_minor": 2
}
